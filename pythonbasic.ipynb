{
  "nbformat": 4,
  "nbformat_minor": 0,
  "metadata": {
    "colab": {
      "provenance": [],
      "collapsed_sections": [],
      "authorship_tag": "ABX9TyOuX35/mqMK26gAp2WSotyk",
      "include_colab_link": true
    },
    "kernelspec": {
      "name": "python3",
      "display_name": "Python 3"
    }
  },
  "cells": [
    {
      "cell_type": "markdown",
      "metadata": {
        "id": "view-in-github",
        "colab_type": "text"
      },
      "source": [
        "<a href=\"https://colab.research.google.com/github/meesumabidi/NAVTCC/blob/main/pythonbasic.ipynb\" target=\"_parent\"><img src=\"https://colab.research.google.com/assets/colab-badge.svg\" alt=\"Open In Colab\"/></a>"
      ]
    },
    {
      "cell_type": "code",
      "metadata": {
        "id": "WR3zoH0_w7st",
        "colab": {
          "base_uri": "https://localhost:8080/",
          "height": 136
        },
        "outputId": "2ccef8d3-cf4c-4687-838d-d3842f320c15"
      },
      "source": [
        "a='''Python is an interpreted, high-level,\n",
        "\n",
        "general-purpose\n",
        "\n",
        "programming language.\n",
        "\n",
        "Created by Guido van Rossum and first released in 1991'''\n",
        "\n",
        "print(a)"
      ],
      "execution_count": null,
      "outputs": [
        {
          "output_type": "stream",
          "text": [
            "Python is an interpreted, high-level,\n",
            "\n",
            "general-purpose\n",
            "\n",
            "programming language.\n",
            "\n",
            "Created by Guido van Rossum and first released in 1991\n"
          ],
          "name": "stdout"
        }
      ]
    },
    {
      "cell_type": "code",
      "metadata": {
        "id": "4GbeACL_xIOF",
        "colab": {
          "base_uri": "https://localhost:8080/",
          "height": 51
        },
        "outputId": "e51dccfc-3bf1-4770-f653-3887a1bcb963"
      },
      "source": [
        "num = float(input('Input any number: '))\n",
        "\n",
        "square = pow(num, 2)\n",
        "\n",
        "print('The square of %f is %f'%(num ,square))"
      ],
      "execution_count": null,
      "outputs": [
        {
          "output_type": "stream",
          "text": [
            "Input any number: 5\n",
            "The square of 5.000000 is 25.000000\n"
          ],
          "name": "stdout"
        }
      ]
    },
    {
      "cell_type": "code",
      "metadata": {
        "id": "gWam8qGLxdKi",
        "colab": {
          "base_uri": "https://localhost:8080/",
          "height": 85
        },
        "outputId": "33a0ced0-c4d1-4310-a70d-1706f62e9662"
      },
      "source": [
        "x=( 8,9,6, 3.2,1.5,4.4,8)\n",
        "\n",
        "print(x)\n",
        "\n",
        "y=x[4]\n",
        "\n",
        "z=x[5]\n",
        "\n",
        "print('4th element is: ', y)\n",
        "\n",
        "print('5th element is: ', z)\n",
        "\n",
        "print(10 in x)"
      ],
      "execution_count": null,
      "outputs": [
        {
          "output_type": "stream",
          "text": [
            "(8, 9, 6, 3.2, 1.5, 4.4, 8)\n",
            "4th element is:  1.5\n",
            "5th element is:  4.4\n",
            "False\n"
          ],
          "name": "stdout"
        }
      ]
    },
    {
      "cell_type": "code",
      "metadata": {
        "id": "qNIkEGYky5_W",
        "colab": {
          "base_uri": "https://localhost:8080/",
          "height": 68
        },
        "outputId": "06433565-1045-4cdc-f276-a8d751d86cfe"
      },
      "source": [
        "listx=[2,4,3,4,4,5,6,7,8]\n",
        "\n",
        "print('largest number is:')\n",
        "\n",
        "print(max(listx))\n",
        "\n",
        "a= set()\n",
        "\n",
        "uniq_items = []\n",
        "\n",
        "for x in listx:\n",
        "\n",
        "  if x not in a:\n",
        "\n",
        "   uniq_items.append(x)\n",
        "\n",
        "   a.add(x)\n",
        "\n",
        "print(uniq_items)"
      ],
      "execution_count": null,
      "outputs": [
        {
          "output_type": "stream",
          "text": [
            "largest number is:\n",
            "8\n",
            "[2, 4, 3, 5, 6, 7, 8]\n"
          ],
          "name": "stdout"
        }
      ]
    },
    {
      "cell_type": "code",
      "metadata": {
        "id": "RjW3C-al1BZZ",
        "colab": {
          "base_uri": "https://localhost:8080/",
          "height": 34
        },
        "outputId": "8396521c-30ef-4cca-bc70-34d91f1499bf"
      },
      "source": [
        "def common_member(list1, list2):\n",
        "\n",
        "   result = False\n",
        "\n",
        "   for x in list1:\n",
        "\n",
        "     for y in list2:\n",
        "\n",
        "       if x == y:\n",
        "\n",
        "          result = True\n",
        "\n",
        "          return result\n",
        "\n",
        "a=[1,2,3,4,5]\n",
        "\n",
        "b=[5,6,7,8,9]\n",
        "\n",
        "print(common_member(a, b))"
      ],
      "execution_count": null,
      "outputs": [
        {
          "output_type": "stream",
          "text": [
            "True\n"
          ],
          "name": "stdout"
        }
      ]
    },
    {
      "cell_type": "code",
      "metadata": {
        "id": "IgHgeD_D1WH_",
        "colab": {
          "base_uri": "https://localhost:8080/",
          "height": 102
        },
        "outputId": "b10c3f94-4aad-4530-8ad6-c808500df3d1"
      },
      "source": [
        "a=\"hello world\"\n",
        "\n",
        "print('first charcter: ', a[0])\n",
        "\n",
        "print('last character: ', a[-1])\n",
        "\n",
        "x=len(a)\n",
        "\n",
        "print('length of string is: ', x)\n",
        "\n",
        "y=a[::-1]\n",
        "\n",
        "print('Reverse string: ', y)\n",
        "\n",
        "z=a.upper()\n",
        "\n",
        "print('Upper case string: ', z)"
      ],
      "execution_count": null,
      "outputs": [
        {
          "output_type": "stream",
          "text": [
            "first charcter:  h\n",
            "last character:  d\n",
            "length of string is:  11\n",
            "Reverse string:  dlrow olleh\n",
            "Upper case string:  HELLO WORLD\n"
          ],
          "name": "stdout"
        }
      ]
    },
    {
      "cell_type": "code",
      "metadata": {
        "id": "7MxCeBYrzTiT"
      },
      "source": [],
      "execution_count": null,
      "outputs": []
    },
    {
      "cell_type": "code",
      "metadata": {
        "id": "csmldghmzUUK"
      },
      "source": [],
      "execution_count": null,
      "outputs": []
    },
    {
      "cell_type": "code",
      "metadata": {
        "id": "NJerxtzqzUqG"
      },
      "source": [],
      "execution_count": null,
      "outputs": []
    }
  ]
}