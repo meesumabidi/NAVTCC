{
  "nbformat": 4,
  "nbformat_minor": 0,
  "metadata": {
    "colab": {
      "provenance": [],
      "collapsed_sections": [],
      "authorship_tag": "ABX9TyOM3eIkEBWF4SPojJC1O2oc",
      "include_colab_link": true
    },
    "kernelspec": {
      "name": "python3",
      "display_name": "Python 3"
    },
    "language_info": {
      "name": "python"
    }
  },
  "cells": [
    {
      "cell_type": "markdown",
      "metadata": {
        "id": "view-in-github",
        "colab_type": "text"
      },
      "source": [
        "<a href=\"https://colab.research.google.com/github/meesumabidi/NAVTCC/blob/main/sir_asif_rfm.ipynb\" target=\"_parent\"><img src=\"https://colab.research.google.com/assets/colab-badge.svg\" alt=\"Open In Colab\"/></a>"
      ]
    },
    {
      "cell_type": "code",
      "metadata": {
        "id": "bJGUV16GQ2X6"
      },
      "source": [
        "  #import modules\n",
        "  import pandas as pd # for dataframes\n",
        "  import matplotlib.pyplot as plt # for plotting graphs\n",
        "  import seaborn as sns # for plotting graphs\n",
        "  import datetime as dt\n",
        "  from sklearn import tree\n",
        "  import squarify "
      ],
      "execution_count": null,
      "outputs": []
    },
    {
      "cell_type": "code",
      "metadata": {
        "colab": {
          "base_uri": "https://localhost:8080/",
          "height": 204
        },
        "id": "1xjsqkE0RhYl",
        "outputId": "77e9a3c6-661e-461c-c974-c0636aa2772b"
      },
      "source": [
        "data = pd.read_excel(\"/content/Online_Retail.xlsx\")\n",
        "data.head()"
      ],
      "execution_count": null,
      "outputs": [
        {
          "output_type": "execute_result",
          "data": {
            "text/html": [
              "<div>\n",
              "<style scoped>\n",
              "    .dataframe tbody tr th:only-of-type {\n",
              "        vertical-align: middle;\n",
              "    }\n",
              "\n",
              "    .dataframe tbody tr th {\n",
              "        vertical-align: top;\n",
              "    }\n",
              "\n",
              "    .dataframe thead th {\n",
              "        text-align: right;\n",
              "    }\n",
              "</style>\n",
              "<table border=\"1\" class=\"dataframe\">\n",
              "  <thead>\n",
              "    <tr style=\"text-align: right;\">\n",
              "      <th></th>\n",
              "      <th>InvoiceNo</th>\n",
              "      <th>StockCode</th>\n",
              "      <th>Description</th>\n",
              "      <th>Quantity</th>\n",
              "      <th>InvoiceDate</th>\n",
              "      <th>UnitPrice</th>\n",
              "      <th>CustomerID</th>\n",
              "      <th>Country</th>\n",
              "    </tr>\n",
              "  </thead>\n",
              "  <tbody>\n",
              "    <tr>\n",
              "      <th>0</th>\n",
              "      <td>536365</td>\n",
              "      <td>85123A</td>\n",
              "      <td>WHITE HANGING HEART T-LIGHT HOLDER</td>\n",
              "      <td>6</td>\n",
              "      <td>2010-12-01 08:26:00</td>\n",
              "      <td>2.55</td>\n",
              "      <td>17850.0</td>\n",
              "      <td>United Kingdom</td>\n",
              "    </tr>\n",
              "    <tr>\n",
              "      <th>1</th>\n",
              "      <td>536365</td>\n",
              "      <td>71053</td>\n",
              "      <td>WHITE METAL LANTERN</td>\n",
              "      <td>6</td>\n",
              "      <td>2010-12-01 08:26:00</td>\n",
              "      <td>3.39</td>\n",
              "      <td>17850.0</td>\n",
              "      <td>United Kingdom</td>\n",
              "    </tr>\n",
              "    <tr>\n",
              "      <th>2</th>\n",
              "      <td>536365</td>\n",
              "      <td>84406B</td>\n",
              "      <td>CREAM CUPID HEARTS COAT HANGER</td>\n",
              "      <td>8</td>\n",
              "      <td>2010-12-01 08:26:00</td>\n",
              "      <td>2.75</td>\n",
              "      <td>17850.0</td>\n",
              "      <td>United Kingdom</td>\n",
              "    </tr>\n",
              "    <tr>\n",
              "      <th>3</th>\n",
              "      <td>536365</td>\n",
              "      <td>84029G</td>\n",
              "      <td>KNITTED UNION FLAG HOT WATER BOTTLE</td>\n",
              "      <td>6</td>\n",
              "      <td>2010-12-01 08:26:00</td>\n",
              "      <td>3.39</td>\n",
              "      <td>17850.0</td>\n",
              "      <td>United Kingdom</td>\n",
              "    </tr>\n",
              "    <tr>\n",
              "      <th>4</th>\n",
              "      <td>536365</td>\n",
              "      <td>84029E</td>\n",
              "      <td>RED WOOLLY HOTTIE WHITE HEART.</td>\n",
              "      <td>6</td>\n",
              "      <td>2010-12-01 08:26:00</td>\n",
              "      <td>3.39</td>\n",
              "      <td>17850.0</td>\n",
              "      <td>United Kingdom</td>\n",
              "    </tr>\n",
              "  </tbody>\n",
              "</table>\n",
              "</div>"
            ],
            "text/plain": [
              "  InvoiceNo StockCode  ... CustomerID         Country\n",
              "0    536365    85123A  ...    17850.0  United Kingdom\n",
              "1    536365     71053  ...    17850.0  United Kingdom\n",
              "2    536365    84406B  ...    17850.0  United Kingdom\n",
              "3    536365    84029G  ...    17850.0  United Kingdom\n",
              "4    536365    84029E  ...    17850.0  United Kingdom\n",
              "\n",
              "[5 rows x 8 columns]"
            ]
          },
          "metadata": {},
          "execution_count": 12
        }
      ]
    },
    {
      "cell_type": "code",
      "metadata": {
        "colab": {
          "base_uri": "https://localhost:8080/"
        },
        "id": "vNljUKLZSKm2",
        "outputId": "295235ae-e397-4871-a074-2d48046bfe7d"
      },
      "source": [
        "data= data[pd.notnull(data['CustomerID'])]\n",
        "filtered_data=data[['Country','CustomerID']].drop_duplicates()\n",
        "\n",
        "#Top ten country's customer\n",
        "filtered_data.Country.value_counts()[:20]\n"
      ],
      "execution_count": null,
      "outputs": [
        {
          "output_type": "execute_result",
          "data": {
            "text/plain": [
              "United Kingdom    1087\n",
              "Germany             31\n",
              "France              30\n",
              "Australia            8\n",
              "Spain                8\n",
              "Portugal             7\n",
              "Belgium              5\n",
              "Italy                4\n",
              "Switzerland          3\n",
              "EIRE                 3\n",
              "Japan                3\n",
              "Netherlands          2\n",
              "Austria              2\n",
              "Sweden               2\n",
              "Cyprus               2\n",
              "Iceland              1\n",
              "Denmark              1\n",
              "Norway               1\n",
              "Finland              1\n",
              "Lithuania            1\n",
              "Name: Country, dtype: int64"
            ]
          },
          "metadata": {},
          "execution_count": 37
        }
      ]
    },
    {
      "cell_type": "code",
      "metadata": {
        "colab": {
          "base_uri": "https://localhost:8080/",
          "height": 297
        },
        "id": "Wo23yomSSSnU",
        "outputId": "3acd0683-ccd2-4383-93fa-d7fdd80ef938"
      },
      "source": [
        "uk_data=data[data.Country=='United Kingdom']\n",
        "\n",
        "uk_data.describe ()"
      ],
      "execution_count": null,
      "outputs": [
        {
          "output_type": "execute_result",
          "data": {
            "text/html": [
              "<div>\n",
              "<style scoped>\n",
              "    .dataframe tbody tr th:only-of-type {\n",
              "        vertical-align: middle;\n",
              "    }\n",
              "\n",
              "    .dataframe tbody tr th {\n",
              "        vertical-align: top;\n",
              "    }\n",
              "\n",
              "    .dataframe thead th {\n",
              "        text-align: right;\n",
              "    }\n",
              "</style>\n",
              "<table border=\"1\" class=\"dataframe\">\n",
              "  <thead>\n",
              "    <tr style=\"text-align: right;\">\n",
              "      <th></th>\n",
              "      <th>Quantity</th>\n",
              "      <th>UnitPrice</th>\n",
              "      <th>CustomerID</th>\n",
              "    </tr>\n",
              "  </thead>\n",
              "  <tbody>\n",
              "    <tr>\n",
              "      <th>count</th>\n",
              "      <td>35963.000000</td>\n",
              "      <td>35963.000000</td>\n",
              "      <td>35963.000000</td>\n",
              "    </tr>\n",
              "    <tr>\n",
              "      <th>mean</th>\n",
              "      <td>10.789005</td>\n",
              "      <td>3.158938</td>\n",
              "      <td>15662.166671</td>\n",
              "    </tr>\n",
              "    <tr>\n",
              "      <th>std</th>\n",
              "      <td>557.707895</td>\n",
              "      <td>5.977907</td>\n",
              "      <td>1622.541472</td>\n",
              "    </tr>\n",
              "    <tr>\n",
              "      <th>min</th>\n",
              "      <td>-74215.000000</td>\n",
              "      <td>0.000000</td>\n",
              "      <td>12346.000000</td>\n",
              "    </tr>\n",
              "    <tr>\n",
              "      <th>25%</th>\n",
              "      <td>1.000000</td>\n",
              "      <td>1.250000</td>\n",
              "      <td>14415.000000</td>\n",
              "    </tr>\n",
              "    <tr>\n",
              "      <th>50%</th>\n",
              "      <td>4.000000</td>\n",
              "      <td>2.100000</td>\n",
              "      <td>15581.000000</td>\n",
              "    </tr>\n",
              "    <tr>\n",
              "      <th>75%</th>\n",
              "      <td>12.000000</td>\n",
              "      <td>3.750000</td>\n",
              "      <td>17211.000000</td>\n",
              "    </tr>\n",
              "    <tr>\n",
              "      <th>max</th>\n",
              "      <td>74215.000000</td>\n",
              "      <td>295.000000</td>\n",
              "      <td>18283.000000</td>\n",
              "    </tr>\n",
              "  </tbody>\n",
              "</table>\n",
              "</div>"
            ],
            "text/plain": [
              "           Quantity     UnitPrice    CustomerID\n",
              "count  35963.000000  35963.000000  35963.000000\n",
              "mean      10.789005      3.158938  15662.166671\n",
              "std      557.707895      5.977907   1622.541472\n",
              "min   -74215.000000      0.000000  12346.000000\n",
              "25%        1.000000      1.250000  14415.000000\n",
              "50%        4.000000      2.100000  15581.000000\n",
              "75%       12.000000      3.750000  17211.000000\n",
              "max    74215.000000    295.000000  18283.000000"
            ]
          },
          "metadata": {},
          "execution_count": 17
        }
      ]
    },
    {
      "cell_type": "code",
      "metadata": {
        "colab": {
          "base_uri": "https://localhost:8080/"
        },
        "id": "I5p7LbIvSXb0",
        "outputId": "14cdbb52-224e-4b30-d337-e0bb916fe099"
      },
      "source": [
        "uk_data = uk_data[(uk_data['Quantity']>0)]\n",
        "uk_data.info()\n"
      ],
      "execution_count": null,
      "outputs": [
        {
          "output_type": "stream",
          "name": "stdout",
          "text": [
            "<class 'pandas.core.frame.DataFrame'>\n",
            "Int64Index: 35089 entries, 0 to 65082\n",
            "Data columns (total 8 columns):\n",
            " #   Column       Non-Null Count  Dtype         \n",
            "---  ------       --------------  -----         \n",
            " 0   InvoiceNo    35089 non-null  object        \n",
            " 1   StockCode    35089 non-null  object        \n",
            " 2   Description  35089 non-null  object        \n",
            " 3   Quantity     35089 non-null  int64         \n",
            " 4   InvoiceDate  35089 non-null  datetime64[ns]\n",
            " 5   UnitPrice    35089 non-null  float64       \n",
            " 6   CustomerID   35089 non-null  float64       \n",
            " 7   Country      35089 non-null  object        \n",
            "dtypes: datetime64[ns](1), float64(2), int64(1), object(4)\n",
            "memory usage: 2.4+ MB\n"
          ]
        }
      ]
    },
    {
      "cell_type": "code",
      "metadata": {
        "id": "SS5z6vDSScMt"
      },
      "source": [
        "  #Filter Required coloumn for RFM Analysis\n",
        "  uk_data=uk_data[['CustomerID','InvoiceDate','InvoiceNo','Quantity','UnitPrice']]\n",
        "  uk_data['TotalPrice'] = uk_data['Quantity'] * uk_data['UnitPrice']\n",
        "  uk_data['InvoiceDate'].min(),uk_data['InvoiceDate'].max()\n",
        "  PRESENT = dt.datetime(2011,12,10)\n",
        "  uk_data['InvoiceDate'] = pd.to_datetime(uk_data['InvoiceDate'])"
      ],
      "execution_count": null,
      "outputs": []
    },
    {
      "cell_type": "code",
      "metadata": {
        "colab": {
          "base_uri": "https://localhost:8080/",
          "height": 235
        },
        "id": "6WE4D2T8Smb0",
        "outputId": "ad3a1a92-065c-4c43-b6d0-453cdc1ce22c"
      },
      "source": [
        "    #### RFM Analysis #############\n",
        "    rfm= uk_data.groupby('CustomerID').agg({'InvoiceDate': lambda date: (PRESENT - date.max()).days,\n",
        "    'InvoiceNo': lambda num: len(num),\n",
        "    'TotalPrice': lambda price: price.sum()})\n",
        "    rfm.columns\n",
        "    # Change the name of columns\n",
        "    rfm.columns=['monetary','frequency','recency']\n",
        "    rfm.head()"
      ],
      "execution_count": null,
      "outputs": [
        {
          "output_type": "execute_result",
          "data": {
            "text/html": [
              "<div>\n",
              "<style scoped>\n",
              "    .dataframe tbody tr th:only-of-type {\n",
              "        vertical-align: middle;\n",
              "    }\n",
              "\n",
              "    .dataframe tbody tr th {\n",
              "        vertical-align: top;\n",
              "    }\n",
              "\n",
              "    .dataframe thead th {\n",
              "        text-align: right;\n",
              "    }\n",
              "</style>\n",
              "<table border=\"1\" class=\"dataframe\">\n",
              "  <thead>\n",
              "    <tr style=\"text-align: right;\">\n",
              "      <th></th>\n",
              "      <th>monetary</th>\n",
              "      <th>frequency</th>\n",
              "      <th>recency</th>\n",
              "    </tr>\n",
              "    <tr>\n",
              "      <th>CustomerID</th>\n",
              "      <th></th>\n",
              "      <th></th>\n",
              "      <th></th>\n",
              "    </tr>\n",
              "  </thead>\n",
              "  <tbody>\n",
              "    <tr>\n",
              "      <th>12346.0</th>\n",
              "      <td>325</td>\n",
              "      <td>1</td>\n",
              "      <td>77183.60</td>\n",
              "    </tr>\n",
              "    <tr>\n",
              "      <th>12747.0</th>\n",
              "      <td>323</td>\n",
              "      <td>20</td>\n",
              "      <td>1009.31</td>\n",
              "    </tr>\n",
              "    <tr>\n",
              "      <th>12748.0</th>\n",
              "      <td>325</td>\n",
              "      <td>693</td>\n",
              "      <td>4646.90</td>\n",
              "    </tr>\n",
              "    <tr>\n",
              "      <th>12820.0</th>\n",
              "      <td>326</td>\n",
              "      <td>11</td>\n",
              "      <td>170.46</td>\n",
              "    </tr>\n",
              "    <tr>\n",
              "      <th>12826.0</th>\n",
              "      <td>324</td>\n",
              "      <td>25</td>\n",
              "      <td>367.72</td>\n",
              "    </tr>\n",
              "  </tbody>\n",
              "</table>\n",
              "</div>"
            ],
            "text/plain": [
              "            monetary  frequency   recency\n",
              "CustomerID                               \n",
              "12346.0          325          1  77183.60\n",
              "12747.0          323         20   1009.31\n",
              "12748.0          325        693   4646.90\n",
              "12820.0          326         11    170.46\n",
              "12826.0          324         25    367.72"
            ]
          },
          "metadata": {},
          "execution_count": 22
        }
      ]
    },
    {
      "cell_type": "code",
      "metadata": {
        "colab": {
          "base_uri": "https://localhost:8080/",
          "height": 235
        },
        "id": "04x2yy-0SqH9",
        "outputId": "64a4410d-ea8a-41a5-d2f8-c12f30d69c46"
      },
      "source": [
        "  #computing the Quantile of RFM value for segmentation\n",
        "  rfm['r_quartile'] = pd.qcut(rfm['recency'], 4, ['1','2','3','4'])\n",
        "  rfm['f_quartile'] = pd.qcut(rfm['frequency'], 4, ['4','3','2','1'])\n",
        "  rfm['m_quartile'] = pd.qcut(rfm['monetary'], 4, ['4','3','2','1'])\n",
        "  rfm.head()"
      ],
      "execution_count": null,
      "outputs": [
        {
          "output_type": "execute_result",
          "data": {
            "text/html": [
              "<div>\n",
              "<style scoped>\n",
              "    .dataframe tbody tr th:only-of-type {\n",
              "        vertical-align: middle;\n",
              "    }\n",
              "\n",
              "    .dataframe tbody tr th {\n",
              "        vertical-align: top;\n",
              "    }\n",
              "\n",
              "    .dataframe thead th {\n",
              "        text-align: right;\n",
              "    }\n",
              "</style>\n",
              "<table border=\"1\" class=\"dataframe\">\n",
              "  <thead>\n",
              "    <tr style=\"text-align: right;\">\n",
              "      <th></th>\n",
              "      <th>monetary</th>\n",
              "      <th>frequency</th>\n",
              "      <th>recency</th>\n",
              "      <th>r_quartile</th>\n",
              "      <th>f_quartile</th>\n",
              "      <th>m_quartile</th>\n",
              "    </tr>\n",
              "    <tr>\n",
              "      <th>CustomerID</th>\n",
              "      <th></th>\n",
              "      <th></th>\n",
              "      <th></th>\n",
              "      <th></th>\n",
              "      <th></th>\n",
              "      <th></th>\n",
              "    </tr>\n",
              "  </thead>\n",
              "  <tbody>\n",
              "    <tr>\n",
              "      <th>12346.0</th>\n",
              "      <td>325</td>\n",
              "      <td>1</td>\n",
              "      <td>77183.60</td>\n",
              "      <td>4</td>\n",
              "      <td>4</td>\n",
              "      <td>4</td>\n",
              "    </tr>\n",
              "    <tr>\n",
              "      <th>12747.0</th>\n",
              "      <td>323</td>\n",
              "      <td>20</td>\n",
              "      <td>1009.31</td>\n",
              "      <td>4</td>\n",
              "      <td>3</td>\n",
              "      <td>4</td>\n",
              "    </tr>\n",
              "    <tr>\n",
              "      <th>12748.0</th>\n",
              "      <td>325</td>\n",
              "      <td>693</td>\n",
              "      <td>4646.90</td>\n",
              "      <td>4</td>\n",
              "      <td>1</td>\n",
              "      <td>4</td>\n",
              "    </tr>\n",
              "    <tr>\n",
              "      <th>12820.0</th>\n",
              "      <td>326</td>\n",
              "      <td>11</td>\n",
              "      <td>170.46</td>\n",
              "      <td>1</td>\n",
              "      <td>3</td>\n",
              "      <td>4</td>\n",
              "    </tr>\n",
              "    <tr>\n",
              "      <th>12826.0</th>\n",
              "      <td>324</td>\n",
              "      <td>25</td>\n",
              "      <td>367.72</td>\n",
              "      <td>3</td>\n",
              "      <td>2</td>\n",
              "      <td>4</td>\n",
              "    </tr>\n",
              "  </tbody>\n",
              "</table>\n",
              "</div>"
            ],
            "text/plain": [
              "            monetary  frequency   recency r_quartile f_quartile m_quartile\n",
              "CustomerID                                                                \n",
              "12346.0          325          1  77183.60          4          4          4\n",
              "12747.0          323         20   1009.31          4          3          4\n",
              "12748.0          325        693   4646.90          4          1          4\n",
              "12820.0          326         11    170.46          1          3          4\n",
              "12826.0          324         25    367.72          3          2          4"
            ]
          },
          "metadata": {},
          "execution_count": 24
        }
      ]
    },
    {
      "cell_type": "code",
      "metadata": {
        "colab": {
          "base_uri": "https://localhost:8080/"
        },
        "id": "ol6fikjlSvYl",
        "outputId": "dcee16b1-57e2-4be1-9385-0b6a922f1340"
      },
      "source": [
        "#### Combine RFM Quantile score\n",
        "rfm['RFM_Score'] = rfm.r_quartile.astype(str)+ rfm.f_quartile.astype(str) + rfm.m_quartile.astype(str)\n",
        "rfm.head()\n",
        "# Filter out Top/Best customers as (111)\n",
        "a = rfm[rfm['RFM_Score']=='222'].sort_values('monetary', ascending=False).head()\n",
        "print(a)\n"
      ],
      "execution_count": null,
      "outputs": [
        {
          "output_type": "stream",
          "name": "stdout",
          "text": [
            "            monetary  frequency  recency  ... f_quartile m_quartile RFM_Score\n",
            "CustomerID                                ...                                \n",
            "13240.0          365         21   224.07  ...          2          2       222\n",
            "13969.0          365         25   317.59  ...          2          2       222\n",
            "14896.0          365         32   257.22  ...          2          2       222\n",
            "17950.0          365         39   263.17  ...          2          2       222\n",
            "17220.0          364         32   317.50  ...          2          2       222\n",
            "\n",
            "[5 rows x 7 columns]\n"
          ]
        }
      ]
    },
    {
      "cell_type": "code",
      "metadata": {
        "colab": {
          "base_uri": "https://localhost:8080/",
          "height": 231
        },
        "id": "Tkv4Fa67XjRU",
        "outputId": "d9fa8d2d-9cda-46e0-a1a5-e15fefb259f4"
      },
      "source": [
        "a = titanic.groupby('class')[['survived']].sum().index.get_level_values(0).tolist()\n",
        " \n",
        "d = titanic.groupby('class')[['survived']].sum().reset_index().survived.values.tolist()\n",
        " \n",
        "squarify.plot(sizes=d,label=a, alpha=.8 )\n",
        "plt.axis('off')\n",
        "plt.show()"
      ],
      "execution_count": null,
      "outputs": [
        {
          "output_type": "error",
          "ename": "NameError",
          "evalue": "ignored",
          "traceback": [
            "\u001b[0;31m---------------------------------------------------------------------------\u001b[0m",
            "\u001b[0;31mNameError\u001b[0m                                 Traceback (most recent call last)",
            "\u001b[0;32m<ipython-input-59-dd33f80bf9ea>\u001b[0m in \u001b[0;36m<module>\u001b[0;34m()\u001b[0m\n\u001b[1;32m      1\u001b[0m \u001b[0;34m\u001b[0m\u001b[0m\n\u001b[0;32m----> 2\u001b[0;31m \u001b[0ma\u001b[0m \u001b[0;34m=\u001b[0m \u001b[0;34m[\u001b[0m\u001b[0mCustomerID\u001b[0m\u001b[0;34m]\u001b[0m\u001b[0;34m\u001b[0m\u001b[0;34m\u001b[0m\u001b[0m\n\u001b[0m\u001b[1;32m      3\u001b[0m \u001b[0;34m\u001b[0m\u001b[0m\n\u001b[1;32m      4\u001b[0m \u001b[0md\u001b[0m \u001b[0;34m=\u001b[0m \u001b[0mrfm\u001b[0m\u001b[0;34m.\u001b[0m\u001b[0mall\u001b[0m\u001b[0;34m\u001b[0m\u001b[0;34m\u001b[0m\u001b[0m\n\u001b[1;32m      5\u001b[0m \u001b[0;34m\u001b[0m\u001b[0m\n",
            "\u001b[0;31mNameError\u001b[0m: name 'CustomerID' is not defined"
          ]
        }
      ]
    }
  ]
}